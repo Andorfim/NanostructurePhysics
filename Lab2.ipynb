{
  "nbformat": 4,
  "nbformat_minor": 0,
  "metadata": {
    "colab": {
      "provenance": []
    },
    "kernelspec": {
      "name": "python3",
      "display_name": "Python 3"
    },
    "language_info": {
      "name": "python"
    }
  },
  "cells": [
    {
      "cell_type": "code",
      "execution_count": 65,
      "metadata": {
        "id": "n6tG5_aSfhM7",
        "colab": {
          "base_uri": "https://localhost:8080/",
          "height": 472
        },
        "outputId": "a2e3a911-d458-4668-a856-597f74d0909e"
      },
      "outputs": [
        {
          "output_type": "display_data",
          "data": {
            "text/plain": [
              "<Figure size 640x480 with 1 Axes>"
            ],
            "image/png": "[encoded data removed]"
          },
          "metadata": {}
        }
      ],
      "source": [
        "import matplotlib.pyplot as plt\n",
        "from scipy import constants\n",
        "import numpy as np\n",
        "\n",
        "N = 200 # Подставляй значение N\n",
        "\n",
        "\n",
        "\n",
        "\n",
        "\n",
        "\n",
        "effective_mass = 0.51e6 # в электрон-вольтах\n",
        "voltage_0 = 4 # в электрон-вольтах\n",
        "m_matrix = [1, -2, 0]\n",
        "hamilton_operator = []\n",
        "hamilton_operator_list = []\n",
        "\n",
        "\n",
        "dirac_square_on_effective_mass = -1*(constants.hbar)/(2*effective_mass)\n",
        "\n",
        "\n",
        "\n",
        "# Инициализирую параметры\n",
        "def x_and_step(N):\n",
        "  x = np.linspace(0, 2e-6, N)\n",
        "  step_x = (np.max(x) - np.min(x))/(N-1)\n",
        "  return x, step_x\n",
        "\n",
        "def potentcial(x):\n",
        "  return 1 - ((np.exp(2*x)-1)/(np.exp(2*x) + 1))**2\n",
        "\n",
        "def normalize(vector):\n",
        "\n",
        "  coef = 0\n",
        "\n",
        "  for i in range(N-1):\n",
        "    coef += step_x*(vector[i]+vector[i+1])/2\n",
        "\n",
        "  return vector/coef\n",
        "\n",
        "\n",
        "x, step_x = x_and_step(N)\n",
        "\n",
        "for i in range(N):\n",
        "  for j in range(N):\n",
        "\n",
        "    if (i == j + 1) or (i == j - 1):\n",
        "      m_ij = 1\n",
        "    elif i == j:\n",
        "      m_ij = -2\n",
        "    else:\n",
        "      m_ij = 0\n",
        "\n",
        "    if i == j:\n",
        "      cronecer = 1\n",
        "    else:\n",
        "      cronecer = 0\n",
        "\n",
        "\n",
        "    # Матрица результата действия Гамильтониана на огибающую функцию\n",
        "    hamilton_operator_list.append(\n",
        "        dirac_square_on_effective_mass*(1/(step_x**2))*m_ij + voltage_0*potentcial(i)*cronecer\n",
        "    )\n",
        "\n",
        "  hamilton_operator.append(hamilton_operator_list)\n",
        "  hamilton_operator_list = []\n",
        "\n",
        "# Диагонализирую матрицу\n",
        "\n",
        "hamilton_operator = np.array(hamilton_operator)\n",
        "\n",
        "eigenvalues, eigenvectors = np.linalg.eig(hamilton_operator) #собственные значения, Собственные векторы\n",
        "\n",
        "# нормирую собственные функции\n",
        "\n",
        "new_vector = []\n",
        "\n",
        "for vector in eigenvectors:\n",
        "  new_vector.append(normalize(vector))\n",
        "\n",
        "# Визуализация всех огибающих\n",
        "plt.plot(x, new_vector)\n",
        "plt.title('Огибающие')\n",
        "plt.xlabel('x in nm')\n",
        "plt.ylabel('f')\n",
        "plt.show()\n",
        "\n",
        "\n",
        "\n"
      ]
    },
    {
      "cell_type": "code",
      "source": [
        "# Проверка работы нормировки (интеграл огибающей = 1)\n",
        "\n",
        "suma = 0\n",
        "vector = new_vector[7] #Менять индекс\n",
        "\n",
        "\n",
        "for i in range(len(vector)):\n",
        "  suma += step_x*vector[i]\n",
        "\n",
        "suma"
      ],
      "metadata": {
        "colab": {
          "base_uri": "https://localhost:8080/"
        },
        "id": "PbOFqk9dfuVP",
        "outputId": "8368d394-908a-4a4d-e9c5-8f870f0e4081"
      },
      "execution_count": 61,
      "outputs": [
        {
          "output_type": "execute_result",
          "data": {
            "text/plain": [
              "1.0"
            ]
          },
          "metadata": {},
          "execution_count": 61
        }
      ]
    },
    {
      "cell_type": "code",
      "source": [
        "# Производная dy/dx (Нужно для потенциала)\n",
        "\n",
        "from sympy import symbols, tanh, diff\n",
        "\n",
        "# Define the symbol and the equation\n",
        "x, y = symbols('x y')\n",
        "eq = y**5 + y + tanh(x)\n",
        "\n",
        "# Calculate the derivative of y with respect to x\n",
        "dy_dx = diff(eq, x)\n",
        "dy_dx # tanh(x) = (exp(2x)-1)/(exp(2x) + 1)"
      ],
      "metadata": {
        "colab": {
          "base_uri": "https://localhost:8080/",
          "height": 38
        },
        "id": "3YIhDCkHjiC1",
        "outputId": "ea15fb35-dcc1-4570-832a-e5c10da62b61"
      },
      "execution_count": null,
      "outputs": [
        {
          "output_type": "execute_result",
          "data": {
            "text/plain": [
              "1 - tanh(x)**2"
            ],
            "text/latex": "$\\displaystyle 1 - \\tanh^{2}{\\left(x \\right)}$"
          },
          "metadata": {},
          "execution_count": 22
        }
      ]
    }
  ]
}